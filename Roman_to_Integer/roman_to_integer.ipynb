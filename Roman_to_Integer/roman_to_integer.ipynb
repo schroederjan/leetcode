{
 "cells": [
  {
   "cell_type": "code",
   "execution_count": 2,
   "id": "bb8e1998",
   "metadata": {},
   "outputs": [],
   "source": [
    "def simple_add(numbers):\n",
    "    counter: int = 0\n",
    "    for n in numbers:\n",
    "        counter += n\n",
    "    return counter"
   ]
  },
  {
   "cell_type": "code",
   "execution_count": 3,
   "id": "53c21310",
   "metadata": {},
   "outputs": [
    {
     "data": {
      "text/plain": [
       "46"
      ]
     },
     "execution_count": 3,
     "metadata": {},
     "output_type": "execute_result"
    }
   ],
   "source": [
    "numbers = [1, 10, 15, 10, 10]\n",
    "simple_add(numbers)"
   ]
  },
  {
   "cell_type": "code",
   "execution_count": 68,
   "id": "a795685d",
   "metadata": {},
   "outputs": [],
   "source": [
    "def complex_add(numbers):\n",
    "    counter: int = 0\n",
    "    last: int = 0\n",
    "    for n in numbers:\n",
    "        # case IV = I - V (1-5) = 4\n",
    "        if n == 5 and last == 1:\n",
    "            print(f\"case: IV\")\n",
    "            counter += n - (last * 2)\n",
    "            last = n\n",
    "        # case IX = I - X (1-10) = 9\n",
    "        elif n == 10 and last == 1:\n",
    "            print(f\"case: IX\")\n",
    "            counter += n - (last * 2)\n",
    "            last = n\n",
    "        # case XL = X - L (10-50) = 40\n",
    "        elif n == 50 and last == 10:\n",
    "            print(f\"case: XL\")\n",
    "            counter += n - (last * 2)\n",
    "            last = n\n",
    "        # case XC = X - C (10-100) = 90\n",
    "        elif n == 100 and last == 10:\n",
    "            print(f\"case: XC\")\n",
    "            counter += n - (last * 2)\n",
    "            last = n\n",
    "        # case CD = C - D (100-500) = 400\n",
    "        elif n == 500 and last == 100:\n",
    "            print(f\"case: CD\")\n",
    "            counter += n - (last * 2)\n",
    "            last = n\n",
    "        # case CM = C - M (100-1000) = 900\n",
    "        elif n == 1000 and last == 100:\n",
    "            print(f\"case: CM\")\n",
    "            counter += n - (last * 2)\n",
    "            last = n\n",
    "        # case Normal\n",
    "        else:\n",
    "            print(f\"case: normal\")\n",
    "            counter += n\n",
    "            last = n\n",
    "        print(counter)\n",
    "    return counter"
   ]
  },
  {
   "cell_type": "code",
   "execution_count": 69,
   "id": "f7bb962b",
   "metadata": {},
   "outputs": [],
   "source": [
    "# if last is smaller than n then substact \n",
    "# then the last becomes negative"
   ]
  },
  {
   "cell_type": "code",
   "execution_count": 70,
   "id": "5f98dbf6",
   "metadata": {},
   "outputs": [
    {
     "name": "stdout",
     "output_type": "stream",
     "text": [
      "case: normal\n",
      "1000\n",
      "case: normal\n",
      "1900\n",
      "case: normal\n",
      "1910\n",
      "case: XC\n",
      "1990\n",
      "case: normal\n",
      "1991\n",
      "case: IV\n",
      "1994\n"
     ]
    },
    {
     "data": {
      "text/plain": [
       "1994"
      ]
     },
     "execution_count": 70,
     "metadata": {},
     "output_type": "execute_result"
    }
   ],
   "source": [
    "#numbers = [1, 5] # IV = 4\n",
    "#numbers = [10, 5, 1, 1]\n",
    "#numbers = [5, 1]\n",
    "numbers = [1000, 900, 10, 100, 1, 5]\n",
    "#M = 1000, CM = 900, XC = 90 and IV = 4.\n",
    "complex_add(numbers)"
   ]
  },
  {
   "cell_type": "code",
   "execution_count": 2,
   "id": "50cf1bc8",
   "metadata": {},
   "outputs": [],
   "source": [
    "# better version"
   ]
  },
  {
   "cell_type": "code",
   "execution_count": 58,
   "id": "b35df87b",
   "metadata": {},
   "outputs": [],
   "source": [
    "roman_symbols_dict = {\n",
    "            'I': 1,\n",
    "            'V': 5,\n",
    "            \"X\": 10,\n",
    "            \"L\": 50,\n",
    "            \"C\": 100,\n",
    "            \"D\": 500,\n",
    "            \"M\": 1000,\n",
    "        }"
   ]
  },
  {
   "cell_type": "code",
   "execution_count": 59,
   "id": "54303a5a",
   "metadata": {},
   "outputs": [],
   "source": [
    "s = 'MCMXCIV'"
   ]
  },
  {
   "cell_type": "code",
   "execution_count": 60,
   "id": "c9d011f8",
   "metadata": {},
   "outputs": [
    {
     "name": "stdout",
     "output_type": "stream",
     "text": [
      "M\n",
      "1000\n",
      "C M\n",
      "900\n",
      "M\n",
      "1900\n",
      "X C\n",
      "1890\n",
      "C\n",
      "1990\n",
      "I V\n",
      "1989\n",
      "V\n",
      "1994\n"
     ]
    }
   ],
   "source": [
    "# large before smaller +\n",
    "# smaller before larger -\n",
    "res = 0\n",
    "for i in range(len(s)):\n",
    "    if i+1 < len(s) and roman_symbols_dict[s[i]] < roman_symbols_dict[s[i+1]]:\n",
    "        print(f\"{s[i]} {s[i+1]}\")\n",
    "        res -= roman_symbols_dict[s[i]]\n",
    "    else:\n",
    "        print(f\"{s[i]}\")\n",
    "        res += roman_symbols_dict[s[i]]\n",
    "    print(res)"
   ]
  },
  {
   "cell_type": "code",
   "execution_count": null,
   "id": "bbb04734",
   "metadata": {},
   "outputs": [],
   "source": []
  }
 ],
 "metadata": {
  "kernelspec": {
   "display_name": "Python 3 (ipykernel)",
   "language": "python",
   "name": "python3"
  },
  "language_info": {
   "codemirror_mode": {
    "name": "ipython",
    "version": 3
   },
   "file_extension": ".py",
   "mimetype": "text/x-python",
   "name": "python",
   "nbconvert_exporter": "python",
   "pygments_lexer": "ipython3",
   "version": "3.8.10"
  }
 },
 "nbformat": 4,
 "nbformat_minor": 5
}
