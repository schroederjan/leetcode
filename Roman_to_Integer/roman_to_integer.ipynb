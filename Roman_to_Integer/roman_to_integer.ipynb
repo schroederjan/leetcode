{
 "cells": [
  {
   "cell_type": "code",
   "execution_count": 1,
   "id": "c8e78656",
   "metadata": {},
   "outputs": [],
   "source": [
    "sub = ['I', 'V']\n",
    "full = ['M', 'C', 'X', 'C', 'I', 'V']"
   ]
  },
  {
   "cell_type": "code",
   "execution_count": 3,
   "id": "c1b99354",
   "metadata": {},
   "outputs": [],
   "source": [
    "if full in sub:\n",
    "    print(True)"
   ]
  },
  {
   "cell_type": "code",
   "execution_count": 8,
   "id": "4de9f482",
   "metadata": {},
   "outputs": [
    {
     "data": {
      "text/plain": [
       "[['M', 'C'], ['X', 'C'], ['I', 'V']]"
      ]
     },
     "execution_count": 8,
     "metadata": {},
     "output_type": "execute_result"
    }
   ],
   "source": [
    "# beakdown the list into list of two's\n",
    "list(split(full, 2))"
   ]
  },
  {
   "cell_type": "code",
   "execution_count": 4,
   "id": "5e431b3f",
   "metadata": {},
   "outputs": [],
   "source": [
    "def split(list_a, chunk_size):\n",
    "    for i in range(0, len(list_a), chunk_size):\n",
    "        yield list_a[i:i + chunk_size]"
   ]
  }
 ],
 "metadata": {
  "kernelspec": {
   "display_name": "Python 3 (ipykernel)",
   "language": "python",
   "name": "python3"
  },
  "language_info": {
   "codemirror_mode": {
    "name": "ipython",
    "version": 3
   },
   "file_extension": ".py",
   "mimetype": "text/x-python",
   "name": "python",
   "nbconvert_exporter": "python",
   "pygments_lexer": "ipython3",
   "version": "3.8.10"
  }
 },
 "nbformat": 4,
 "nbformat_minor": 5
}
